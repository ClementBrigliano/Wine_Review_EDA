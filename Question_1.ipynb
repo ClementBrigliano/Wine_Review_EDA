{
 "cells": [
  {
   "cell_type": "code",
   "execution_count": 9,
   "metadata": {},
   "outputs": [
    {
     "name": "stderr",
     "output_type": "stream",
     "text": [
      "C:\\Users\\david\\AppData\\Local\\Temp\\ipykernel_9148\\3131578169.py:14: FutureWarning:\n",
      "\n",
      "The geopandas.dataset module is deprecated and will be removed in GeoPandas 1.0. You can get the original 'naturalearth_lowres' data from https://www.naturalearthdata.com/downloads/110m-cultural-vectors/.\n",
      "\n"
     ]
    },
    {
     "data": {
      "application/vnd.plotly.v1+json": {
       "config": {
        "plotlyServerURL": "https://plot.ly"
       },
       "data": [
        {
         "coloraxis": "coloraxis",
         "customdata": [
          [
           "FJI",
           null,
           null
          ],
          [
           "TZA",
           null,
           null
          ],
          [
           "ESH",
           null,
           null
          ],
          [
           "CAN",
           89.30973451327434,
           226
          ],
          [
           "USA",
           88.55538379213984,
           50457
          ],
          [
           "KAZ",
           null,
           null
          ],
          [
           "UZB",
           null,
           null
          ],
          [
           "PNG",
           null,
           null
          ],
          [
           "IDN",
           null,
           null
          ],
          [
           "ARG",
           86.64983069977427,
           3544
          ],
          [
           "CHL",
           86.46056405353728,
           4184
          ],
          [
           "COD",
           null,
           null
          ],
          [
           "SOM",
           null,
           null
          ],
          [
           "KEN",
           null,
           null
          ],
          [
           "SDN",
           null,
           null
          ],
          [
           "TCD",
           null,
           null
          ],
          [
           "HTI",
           null,
           null
          ],
          [
           "DOM",
           null,
           null
          ],
          [
           "RUS",
           null,
           null
          ],
          [
           "BHS",
           null,
           null
          ],
          [
           "FLK",
           null,
           null
          ],
          [
           "NOR",
           null,
           null
          ],
          [
           "GRL",
           null,
           null
          ],
          [
           "ATF",
           null,
           null
          ],
          [
           "TLS",
           null,
           null
          ],
          [
           "ZAF",
           88.03382013835511,
           1301
          ],
          [
           "LSO",
           null,
           null
          ],
          [
           "MEX",
           85.16176470588235,
           68
          ],
          [
           "URY",
           86.66326530612245,
           98
          ],
          [
           "BRA",
           84.63265306122449,
           49
          ],
          [
           "BOL",
           null,
           null
          ],
          [
           "PER",
           83.5625,
           16
          ],
          [
           "COL",
           null,
           null
          ],
          [
           "PAN",
           null,
           null
          ],
          [
           "CRI",
           null,
           null
          ],
          [
           "NIC",
           null,
           null
          ],
          [
           "HND",
           null,
           null
          ],
          [
           "SLV",
           null,
           null
          ],
          [
           "GTM",
           null,
           null
          ],
          [
           "BLZ",
           null,
           null
          ],
          [
           "VEN",
           null,
           null
          ],
          [
           "GUY",
           null,
           null
          ],
          [
           "SUR",
           null,
           null
          ],
          [
           "FRA",
           88.86675183019702,
           20353
          ],
          [
           "ECU",
           null,
           null
          ],
          [
           "PRI",
           null,
           null
          ],
          [
           "JAM",
           null,
           null
          ],
          [
           "CUB",
           null,
           null
          ],
          [
           "ZWE",
           null,
           null
          ],
          [
           "BWA",
           null,
           null
          ],
          [
           "NAM",
           null,
           null
          ],
          [
           "SEN",
           null,
           null
          ],
          [
           "MLI",
           null,
           null
          ],
          [
           "MRT",
           null,
           null
          ],
          [
           "BEN",
           null,
           null
          ],
          [
           "NER",
           null,
           null
          ],
          [
           "NGA",
           null,
           null
          ],
          [
           "CMR",
           null,
           null
          ],
          [
           "TGO",
           null,
           null
          ],
          [
           "GHA",
           null,
           null
          ],
          [
           "CIV",
           null,
           null
          ],
          [
           "GIN",
           null,
           null
          ],
          [
           "GNB",
           null,
           null
          ],
          [
           "LBR",
           null,
           null
          ],
          [
           "SLE",
           null,
           null
          ],
          [
           "BFA",
           null,
           null
          ],
          [
           "CAF",
           null,
           null
          ],
          [
           "COG",
           null,
           null
          ],
          [
           "GAB",
           null,
           null
          ],
          [
           "GNQ",
           null,
           null
          ],
          [
           "ZMB",
           null,
           null
          ],
          [
           "MWI",
           null,
           null
          ],
          [
           "MOZ",
           null,
           null
          ],
          [
           "SWZ",
           null,
           null
          ],
          [
           "AGO",
           null,
           null
          ],
          [
           "BDI",
           null,
           null
          ],
          [
           "ISR",
           88.45493562231759,
           466
          ],
          [
           "LBN",
           87.59375,
           32
          ],
          [
           "MDG",
           null,
           null
          ],
          [
           "PSE",
           null,
           null
          ],
          [
           "GMB",
           null,
           null
          ],
          [
           "TUN",
           null,
           null
          ],
          [
           "DZA",
           null,
           null
          ],
          [
           "JOR",
           null,
           null
          ],
          [
           "ARE",
           null,
           null
          ],
          [
           "QAT",
           null,
           null
          ],
          [
           "KWT",
           null,
           null
          ],
          [
           "IRQ",
           null,
           null
          ],
          [
           "OMN",
           null,
           null
          ],
          [
           "VUT",
           null,
           null
          ],
          [
           "KHM",
           null,
           null
          ],
          [
           "THA",
           null,
           null
          ],
          [
           "LAO",
           null,
           null
          ],
          [
           "MMR",
           null,
           null
          ],
          [
           "VNM",
           null,
           null
          ],
          [
           "PRK",
           null,
           null
          ],
          [
           "KOR",
           null,
           null
          ],
          [
           "MNG",
           null,
           null
          ],
          [
           "IND",
           90.25,
           8
          ],
          [
           "BGD",
           null,
           null
          ],
          [
           "BTN",
           null,
           null
          ],
          [
           "NPL",
           null,
           null
          ],
          [
           "PAK",
           null,
           null
          ],
          [
           "AFG",
           null,
           null
          ],
          [
           "TJK",
           null,
           null
          ],
          [
           "KGZ",
           null,
           null
          ],
          [
           "TKM",
           null,
           null
          ],
          [
           "IRN",
           null,
           null
          ],
          [
           "SYR",
           null,
           null
          ],
          [
           "ARM",
           87.5,
           2
          ],
          [
           "SWE",
           null,
           null
          ],
          [
           "BLR",
           null,
           null
          ],
          [
           "UKR",
           84.07142857142857,
           14
          ],
          [
           "POL",
           null,
           null
          ],
          [
           "AUT",
           90.12953197099539,
           3034
          ],
          [
           "HUN",
           89.29457364341086,
           129
          ],
          [
           "MDA",
           87.14285714285714,
           56
          ],
          [
           "ROU",
           86.31372549019608,
           102
          ],
          [
           "LTU",
           null,
           null
          ],
          [
           "LVA",
           null,
           null
          ],
          [
           "EST",
           null,
           null
          ],
          [
           "DEU",
           89.89558232931726,
           1992
          ],
          [
           "BGR",
           87.87878787878788,
           132
          ],
          [
           "GRC",
           87.23842592592592,
           432
          ],
          [
           "TUR",
           88.07407407407408,
           81
          ],
          [
           "ALB",
           null,
           null
          ],
          [
           "HRV",
           87.18571428571428,
           70
          ],
          [
           "CHE",
           88.5,
           6
          ],
          [
           "LUX",
           88.8,
           5
          ],
          [
           "BEL",
           null,
           null
          ],
          [
           "NLD",
           null,
           null
          ],
          [
           "PRT",
           88.26312785388127,
           5256
          ],
          [
           "ESP",
           87.23561151079137,
           6116
          ],
          [
           "IRL",
           null,
           null
          ],
          [
           "NCL",
           null,
           null
          ],
          [
           "SLB",
           null,
           null
          ],
          [
           "NZL",
           88.29968701095461,
           1278
          ],
          [
           "AUS",
           88.56121984524351,
           2197
          ],
          [
           "LKA",
           null,
           null
          ],
          [
           "CHN",
           89,
           1
          ],
          [
           "TWN",
           null,
           null
          ],
          [
           "ITA",
           88.57619843924192,
           17940
          ],
          [
           "DNK",
           null,
           null
          ],
          [
           "GBR",
           null,
           null
          ],
          [
           "ISL",
           null,
           null
          ],
          [
           "AZE",
           null,
           null
          ],
          [
           "GEO",
           87.60526315789474,
           76
          ],
          [
           "PHL",
           null,
           null
          ],
          [
           "MYS",
           null,
           null
          ],
          [
           "BRN",
           null,
           null
          ],
          [
           "SVN",
           88.12987012987013,
           77
          ],
          [
           "FIN",
           null,
           null
          ],
          [
           "SVK",
           87,
           1
          ],
          [
           "CZE",
           87.0909090909091,
           11
          ],
          [
           "ERI",
           null,
           null
          ],
          [
           "JPN",
           null,
           null
          ],
          [
           "PRY",
           null,
           null
          ],
          [
           "YEM",
           null,
           null
          ],
          [
           "SAU",
           null,
           null
          ],
          [
           "ATA",
           null,
           null
          ],
          [
           "CYN",
           null,
           null
          ],
          [
           "CYP",
           87.1,
           10
          ],
          [
           "MAR",
           88.70833333333333,
           24
          ],
          [
           "EGY",
           84,
           1
          ],
          [
           "LBY",
           null,
           null
          ],
          [
           "ETH",
           null,
           null
          ],
          [
           "DJI",
           null,
           null
          ],
          [
           "SOL",
           null,
           null
          ],
          [
           "UGA",
           null,
           null
          ],
          [
           "RWA",
           null,
           null
          ],
          [
           "BIH",
           86.5,
           2
          ],
          [
           "MKD",
           86.81818181818181,
           11
          ],
          [
           "SRB",
           87.625,
           8
          ],
          [
           "MNE",
           null,
           null
          ],
          [
           "-99",
           null,
           null
          ],
          [
           "TTO",
           null,
           null
          ],
          [
           "SSD",
           null,
           null
          ]
         ],
         "geo": "geo",
         "hovertemplate": "<b>%{hovertext}</b><br><br>Points moyens=%{z}<br>Nombre de vins=%{customdata[2]}<extra></extra>",
         "hovertext": [
          "Fiji",
          "Tanzania",
          "W. Sahara",
          "Canada",
          "United States of America",
          "Kazakhstan",
          "Uzbekistan",
          "Papua New Guinea",
          "Indonesia",
          "Argentina",
          "Chile",
          "Dem. Rep. Congo",
          "Somalia",
          "Kenya",
          "Sudan",
          "Chad",
          "Haiti",
          "Dominican Rep.",
          "Russia",
          "Bahamas",
          "Falkland Is.",
          "Norway",
          "Greenland",
          "Fr. S. Antarctic Lands",
          "Timor-Leste",
          "South Africa",
          "Lesotho",
          "Mexico",
          "Uruguay",
          "Brazil",
          "Bolivia",
          "Peru",
          "Colombia",
          "Panama",
          "Costa Rica",
          "Nicaragua",
          "Honduras",
          "El Salvador",
          "Guatemala",
          "Belize",
          "Venezuela",
          "Guyana",
          "Suriname",
          "France",
          "Ecuador",
          "Puerto Rico",
          "Jamaica",
          "Cuba",
          "Zimbabwe",
          "Botswana",
          "Namibia",
          "Senegal",
          "Mali",
          "Mauritania",
          "Benin",
          "Niger",
          "Nigeria",
          "Cameroon",
          "Togo",
          "Ghana",
          "Côte d'Ivoire",
          "Guinea",
          "Guinea-Bissau",
          "Liberia",
          "Sierra Leone",
          "Burkina Faso",
          "Central African Rep.",
          "Congo",
          "Gabon",
          "Eq. Guinea",
          "Zambia",
          "Malawi",
          "Mozambique",
          "eSwatini",
          "Angola",
          "Burundi",
          "Israel",
          "Lebanon",
          "Madagascar",
          "Palestine",
          "Gambia",
          "Tunisia",
          "Algeria",
          "Jordan",
          "United Arab Emirates",
          "Qatar",
          "Kuwait",
          "Iraq",
          "Oman",
          "Vanuatu",
          "Cambodia",
          "Thailand",
          "Laos",
          "Myanmar",
          "Vietnam",
          "North Korea",
          "South Korea",
          "Mongolia",
          "India",
          "Bangladesh",
          "Bhutan",
          "Nepal",
          "Pakistan",
          "Afghanistan",
          "Tajikistan",
          "Kyrgyzstan",
          "Turkmenistan",
          "Iran",
          "Syria",
          "Armenia",
          "Sweden",
          "Belarus",
          "Ukraine",
          "Poland",
          "Austria",
          "Hungary",
          "Moldova",
          "Romania",
          "Lithuania",
          "Latvia",
          "Estonia",
          "Germany",
          "Bulgaria",
          "Greece",
          "Turkey",
          "Albania",
          "Croatia",
          "Switzerland",
          "Luxembourg",
          "Belgium",
          "Netherlands",
          "Portugal",
          "Spain",
          "Ireland",
          "New Caledonia",
          "Solomon Is.",
          "New Zealand",
          "Australia",
          "Sri Lanka",
          "China",
          "Taiwan",
          "Italy",
          "Denmark",
          "United Kingdom",
          "Iceland",
          "Azerbaijan",
          "Georgia",
          "Philippines",
          "Malaysia",
          "Brunei",
          "Slovenia",
          "Finland",
          "Slovakia",
          "Czechia",
          "Eritrea",
          "Japan",
          "Paraguay",
          "Yemen",
          "Saudi Arabia",
          "Antarctica",
          "N. Cyprus",
          "Cyprus",
          "Morocco",
          "Egypt",
          "Libya",
          "Ethiopia",
          "Djibouti",
          "Somaliland",
          "Uganda",
          "Rwanda",
          "Bosnia and Herz.",
          "North Macedonia",
          "Serbia",
          "Montenegro",
          "Kosovo",
          "Trinidad and Tobago",
          "S. Sudan"
         ],
         "locations": [
          "FJI",
          "TZA",
          "ESH",
          "CAN",
          "USA",
          "KAZ",
          "UZB",
          "PNG",
          "IDN",
          "ARG",
          "CHL",
          "COD",
          "SOM",
          "KEN",
          "SDN",
          "TCD",
          "HTI",
          "DOM",
          "RUS",
          "BHS",
          "FLK",
          "NOR",
          "GRL",
          "ATF",
          "TLS",
          "ZAF",
          "LSO",
          "MEX",
          "URY",
          "BRA",
          "BOL",
          "PER",
          "COL",
          "PAN",
          "CRI",
          "NIC",
          "HND",
          "SLV",
          "GTM",
          "BLZ",
          "VEN",
          "GUY",
          "SUR",
          "FRA",
          "ECU",
          "PRI",
          "JAM",
          "CUB",
          "ZWE",
          "BWA",
          "NAM",
          "SEN",
          "MLI",
          "MRT",
          "BEN",
          "NER",
          "NGA",
          "CMR",
          "TGO",
          "GHA",
          "CIV",
          "GIN",
          "GNB",
          "LBR",
          "SLE",
          "BFA",
          "CAF",
          "COG",
          "GAB",
          "GNQ",
          "ZMB",
          "MWI",
          "MOZ",
          "SWZ",
          "AGO",
          "BDI",
          "ISR",
          "LBN",
          "MDG",
          "PSE",
          "GMB",
          "TUN",
          "DZA",
          "JOR",
          "ARE",
          "QAT",
          "KWT",
          "IRQ",
          "OMN",
          "VUT",
          "KHM",
          "THA",
          "LAO",
          "MMR",
          "VNM",
          "PRK",
          "KOR",
          "MNG",
          "IND",
          "BGD",
          "BTN",
          "NPL",
          "PAK",
          "AFG",
          "TJK",
          "KGZ",
          "TKM",
          "IRN",
          "SYR",
          "ARM",
          "SWE",
          "BLR",
          "UKR",
          "POL",
          "AUT",
          "HUN",
          "MDA",
          "ROU",
          "LTU",
          "LVA",
          "EST",
          "DEU",
          "BGR",
          "GRC",
          "TUR",
          "ALB",
          "HRV",
          "CHE",
          "LUX",
          "BEL",
          "NLD",
          "PRT",
          "ESP",
          "IRL",
          "NCL",
          "SLB",
          "NZL",
          "AUS",
          "LKA",
          "CHN",
          "TWN",
          "ITA",
          "DNK",
          "GBR",
          "ISL",
          "AZE",
          "GEO",
          "PHL",
          "MYS",
          "BRN",
          "SVN",
          "FIN",
          "SVK",
          "CZE",
          "ERI",
          "JPN",
          "PRY",
          "YEM",
          "SAU",
          "ATA",
          "CYN",
          "CYP",
          "MAR",
          "EGY",
          "LBY",
          "ETH",
          "DJI",
          "SOL",
          "UGA",
          "RWA",
          "BIH",
          "MKD",
          "SRB",
          "MNE",
          "-99",
          "TTO",
          "SSD"
         ],
         "name": "",
         "type": "choropleth",
         "z": [
          null,
          null,
          null,
          89.30973451327434,
          88.55538379213984,
          null,
          null,
          null,
          null,
          86.64983069977427,
          86.46056405353728,
          null,
          null,
          null,
          null,
          null,
          null,
          null,
          null,
          null,
          null,
          null,
          null,
          null,
          null,
          88.03382013835511,
          null,
          85.16176470588235,
          86.66326530612245,
          84.63265306122449,
          null,
          83.5625,
          null,
          null,
          null,
          null,
          null,
          null,
          null,
          null,
          null,
          null,
          null,
          88.86675183019702,
          null,
          null,
          null,
          null,
          null,
          null,
          null,
          null,
          null,
          null,
          null,
          null,
          null,
          null,
          null,
          null,
          null,
          null,
          null,
          null,
          null,
          null,
          null,
          null,
          null,
          null,
          null,
          null,
          null,
          null,
          null,
          null,
          88.45493562231759,
          87.59375,
          null,
          null,
          null,
          null,
          null,
          null,
          null,
          null,
          null,
          null,
          null,
          null,
          null,
          null,
          null,
          null,
          null,
          null,
          null,
          null,
          90.25,
          null,
          null,
          null,
          null,
          null,
          null,
          null,
          null,
          null,
          null,
          87.5,
          null,
          null,
          84.07142857142857,
          null,
          90.12953197099539,
          89.29457364341086,
          87.14285714285714,
          86.31372549019608,
          null,
          null,
          null,
          89.89558232931726,
          87.87878787878788,
          87.23842592592592,
          88.07407407407408,
          null,
          87.18571428571428,
          88.5,
          88.8,
          null,
          null,
          88.26312785388127,
          87.23561151079137,
          null,
          null,
          null,
          88.29968701095461,
          88.56121984524351,
          null,
          89,
          null,
          88.57619843924192,
          null,
          null,
          null,
          null,
          87.60526315789474,
          null,
          null,
          null,
          88.12987012987013,
          null,
          87,
          87.0909090909091,
          null,
          null,
          null,
          null,
          null,
          null,
          null,
          87.1,
          88.70833333333333,
          84,
          null,
          null,
          null,
          null,
          null,
          null,
          86.5,
          86.81818181818181,
          87.625,
          null,
          null,
          null,
          null
         ]
        }
       ],
       "layout": {
        "coloraxis": {
         "colorbar": {
          "title": {
           "text": "Points moyens"
          }
         },
         "colorscale": [
          [
           0,
           "rgb(165,0,38)"
          ],
          [
           0.1,
           "rgb(215,48,39)"
          ],
          [
           0.2,
           "rgb(244,109,67)"
          ],
          [
           0.3,
           "rgb(253,174,97)"
          ],
          [
           0.4,
           "rgb(254,224,139)"
          ],
          [
           0.5,
           "rgb(255,255,191)"
          ],
          [
           0.6,
           "rgb(217,239,139)"
          ],
          [
           0.7,
           "rgb(166,217,106)"
          ],
          [
           0.8,
           "rgb(102,189,99)"
          ],
          [
           0.9,
           "rgb(26,152,80)"
          ],
          [
           1,
           "rgb(0,104,55)"
          ]
         ]
        },
        "geo": {
         "center": {},
         "domain": {
          "x": [
           0,
           1
          ],
          "y": [
           0,
           1
          ]
         },
         "projection": {
          "type": "natural earth"
         }
        },
        "legend": {
         "tracegroupgap": 0
        },
        "template": {
         "data": {
          "bar": [
           {
            "error_x": {
             "color": "#2a3f5f"
            },
            "error_y": {
             "color": "#2a3f5f"
            },
            "marker": {
             "line": {
              "color": "#E5ECF6",
              "width": 0.5
             },
             "pattern": {
              "fillmode": "overlay",
              "size": 10,
              "solidity": 0.2
             }
            },
            "type": "bar"
           }
          ],
          "barpolar": [
           {
            "marker": {
             "line": {
              "color": "#E5ECF6",
              "width": 0.5
             },
             "pattern": {
              "fillmode": "overlay",
              "size": 10,
              "solidity": 0.2
             }
            },
            "type": "barpolar"
           }
          ],
          "carpet": [
           {
            "aaxis": {
             "endlinecolor": "#2a3f5f",
             "gridcolor": "white",
             "linecolor": "white",
             "minorgridcolor": "white",
             "startlinecolor": "#2a3f5f"
            },
            "baxis": {
             "endlinecolor": "#2a3f5f",
             "gridcolor": "white",
             "linecolor": "white",
             "minorgridcolor": "white",
             "startlinecolor": "#2a3f5f"
            },
            "type": "carpet"
           }
          ],
          "choropleth": [
           {
            "colorbar": {
             "outlinewidth": 0,
             "ticks": ""
            },
            "type": "choropleth"
           }
          ],
          "contour": [
           {
            "colorbar": {
             "outlinewidth": 0,
             "ticks": ""
            },
            "colorscale": [
             [
              0,
              "#0d0887"
             ],
             [
              0.1111111111111111,
              "#46039f"
             ],
             [
              0.2222222222222222,
              "#7201a8"
             ],
             [
              0.3333333333333333,
              "#9c179e"
             ],
             [
              0.4444444444444444,
              "#bd3786"
             ],
             [
              0.5555555555555556,
              "#d8576b"
             ],
             [
              0.6666666666666666,
              "#ed7953"
             ],
             [
              0.7777777777777778,
              "#fb9f3a"
             ],
             [
              0.8888888888888888,
              "#fdca26"
             ],
             [
              1,
              "#f0f921"
             ]
            ],
            "type": "contour"
           }
          ],
          "contourcarpet": [
           {
            "colorbar": {
             "outlinewidth": 0,
             "ticks": ""
            },
            "type": "contourcarpet"
           }
          ],
          "heatmap": [
           {
            "colorbar": {
             "outlinewidth": 0,
             "ticks": ""
            },
            "colorscale": [
             [
              0,
              "#0d0887"
             ],
             [
              0.1111111111111111,
              "#46039f"
             ],
             [
              0.2222222222222222,
              "#7201a8"
             ],
             [
              0.3333333333333333,
              "#9c179e"
             ],
             [
              0.4444444444444444,
              "#bd3786"
             ],
             [
              0.5555555555555556,
              "#d8576b"
             ],
             [
              0.6666666666666666,
              "#ed7953"
             ],
             [
              0.7777777777777778,
              "#fb9f3a"
             ],
             [
              0.8888888888888888,
              "#fdca26"
             ],
             [
              1,
              "#f0f921"
             ]
            ],
            "type": "heatmap"
           }
          ],
          "heatmapgl": [
           {
            "colorbar": {
             "outlinewidth": 0,
             "ticks": ""
            },
            "colorscale": [
             [
              0,
              "#0d0887"
             ],
             [
              0.1111111111111111,
              "#46039f"
             ],
             [
              0.2222222222222222,
              "#7201a8"
             ],
             [
              0.3333333333333333,
              "#9c179e"
             ],
             [
              0.4444444444444444,
              "#bd3786"
             ],
             [
              0.5555555555555556,
              "#d8576b"
             ],
             [
              0.6666666666666666,
              "#ed7953"
             ],
             [
              0.7777777777777778,
              "#fb9f3a"
             ],
             [
              0.8888888888888888,
              "#fdca26"
             ],
             [
              1,
              "#f0f921"
             ]
            ],
            "type": "heatmapgl"
           }
          ],
          "histogram": [
           {
            "marker": {
             "pattern": {
              "fillmode": "overlay",
              "size": 10,
              "solidity": 0.2
             }
            },
            "type": "histogram"
           }
          ],
          "histogram2d": [
           {
            "colorbar": {
             "outlinewidth": 0,
             "ticks": ""
            },
            "colorscale": [
             [
              0,
              "#0d0887"
             ],
             [
              0.1111111111111111,
              "#46039f"
             ],
             [
              0.2222222222222222,
              "#7201a8"
             ],
             [
              0.3333333333333333,
              "#9c179e"
             ],
             [
              0.4444444444444444,
              "#bd3786"
             ],
             [
              0.5555555555555556,
              "#d8576b"
             ],
             [
              0.6666666666666666,
              "#ed7953"
             ],
             [
              0.7777777777777778,
              "#fb9f3a"
             ],
             [
              0.8888888888888888,
              "#fdca26"
             ],
             [
              1,
              "#f0f921"
             ]
            ],
            "type": "histogram2d"
           }
          ],
          "histogram2dcontour": [
           {
            "colorbar": {
             "outlinewidth": 0,
             "ticks": ""
            },
            "colorscale": [
             [
              0,
              "#0d0887"
             ],
             [
              0.1111111111111111,
              "#46039f"
             ],
             [
              0.2222222222222222,
              "#7201a8"
             ],
             [
              0.3333333333333333,
              "#9c179e"
             ],
             [
              0.4444444444444444,
              "#bd3786"
             ],
             [
              0.5555555555555556,
              "#d8576b"
             ],
             [
              0.6666666666666666,
              "#ed7953"
             ],
             [
              0.7777777777777778,
              "#fb9f3a"
             ],
             [
              0.8888888888888888,
              "#fdca26"
             ],
             [
              1,
              "#f0f921"
             ]
            ],
            "type": "histogram2dcontour"
           }
          ],
          "mesh3d": [
           {
            "colorbar": {
             "outlinewidth": 0,
             "ticks": ""
            },
            "type": "mesh3d"
           }
          ],
          "parcoords": [
           {
            "line": {
             "colorbar": {
              "outlinewidth": 0,
              "ticks": ""
             }
            },
            "type": "parcoords"
           }
          ],
          "pie": [
           {
            "automargin": true,
            "type": "pie"
           }
          ],
          "scatter": [
           {
            "fillpattern": {
             "fillmode": "overlay",
             "size": 10,
             "solidity": 0.2
            },
            "type": "scatter"
           }
          ],
          "scatter3d": [
           {
            "line": {
             "colorbar": {
              "outlinewidth": 0,
              "ticks": ""
             }
            },
            "marker": {
             "colorbar": {
              "outlinewidth": 0,
              "ticks": ""
             }
            },
            "type": "scatter3d"
           }
          ],
          "scattercarpet": [
           {
            "marker": {
             "colorbar": {
              "outlinewidth": 0,
              "ticks": ""
             }
            },
            "type": "scattercarpet"
           }
          ],
          "scattergeo": [
           {
            "marker": {
             "colorbar": {
              "outlinewidth": 0,
              "ticks": ""
             }
            },
            "type": "scattergeo"
           }
          ],
          "scattergl": [
           {
            "marker": {
             "colorbar": {
              "outlinewidth": 0,
              "ticks": ""
             }
            },
            "type": "scattergl"
           }
          ],
          "scattermapbox": [
           {
            "marker": {
             "colorbar": {
              "outlinewidth": 0,
              "ticks": ""
             }
            },
            "type": "scattermapbox"
           }
          ],
          "scatterpolar": [
           {
            "marker": {
             "colorbar": {
              "outlinewidth": 0,
              "ticks": ""
             }
            },
            "type": "scatterpolar"
           }
          ],
          "scatterpolargl": [
           {
            "marker": {
             "colorbar": {
              "outlinewidth": 0,
              "ticks": ""
             }
            },
            "type": "scatterpolargl"
           }
          ],
          "scatterternary": [
           {
            "marker": {
             "colorbar": {
              "outlinewidth": 0,
              "ticks": ""
             }
            },
            "type": "scatterternary"
           }
          ],
          "surface": [
           {
            "colorbar": {
             "outlinewidth": 0,
             "ticks": ""
            },
            "colorscale": [
             [
              0,
              "#0d0887"
             ],
             [
              0.1111111111111111,
              "#46039f"
             ],
             [
              0.2222222222222222,
              "#7201a8"
             ],
             [
              0.3333333333333333,
              "#9c179e"
             ],
             [
              0.4444444444444444,
              "#bd3786"
             ],
             [
              0.5555555555555556,
              "#d8576b"
             ],
             [
              0.6666666666666666,
              "#ed7953"
             ],
             [
              0.7777777777777778,
              "#fb9f3a"
             ],
             [
              0.8888888888888888,
              "#fdca26"
             ],
             [
              1,
              "#f0f921"
             ]
            ],
            "type": "surface"
           }
          ],
          "table": [
           {
            "cells": {
             "fill": {
              "color": "#EBF0F8"
             },
             "line": {
              "color": "white"
             }
            },
            "header": {
             "fill": {
              "color": "#C8D4E3"
             },
             "line": {
              "color": "white"
             }
            },
            "type": "table"
           }
          ]
         },
         "layout": {
          "annotationdefaults": {
           "arrowcolor": "#2a3f5f",
           "arrowhead": 0,
           "arrowwidth": 1
          },
          "autotypenumbers": "strict",
          "coloraxis": {
           "colorbar": {
            "outlinewidth": 0,
            "ticks": ""
           }
          },
          "colorscale": {
           "diverging": [
            [
             0,
             "#8e0152"
            ],
            [
             0.1,
             "#c51b7d"
            ],
            [
             0.2,
             "#de77ae"
            ],
            [
             0.3,
             "#f1b6da"
            ],
            [
             0.4,
             "#fde0ef"
            ],
            [
             0.5,
             "#f7f7f7"
            ],
            [
             0.6,
             "#e6f5d0"
            ],
            [
             0.7,
             "#b8e186"
            ],
            [
             0.8,
             "#7fbc41"
            ],
            [
             0.9,
             "#4d9221"
            ],
            [
             1,
             "#276419"
            ]
           ],
           "sequential": [
            [
             0,
             "#0d0887"
            ],
            [
             0.1111111111111111,
             "#46039f"
            ],
            [
             0.2222222222222222,
             "#7201a8"
            ],
            [
             0.3333333333333333,
             "#9c179e"
            ],
            [
             0.4444444444444444,
             "#bd3786"
            ],
            [
             0.5555555555555556,
             "#d8576b"
            ],
            [
             0.6666666666666666,
             "#ed7953"
            ],
            [
             0.7777777777777778,
             "#fb9f3a"
            ],
            [
             0.8888888888888888,
             "#fdca26"
            ],
            [
             1,
             "#f0f921"
            ]
           ],
           "sequentialminus": [
            [
             0,
             "#0d0887"
            ],
            [
             0.1111111111111111,
             "#46039f"
            ],
            [
             0.2222222222222222,
             "#7201a8"
            ],
            [
             0.3333333333333333,
             "#9c179e"
            ],
            [
             0.4444444444444444,
             "#bd3786"
            ],
            [
             0.5555555555555556,
             "#d8576b"
            ],
            [
             0.6666666666666666,
             "#ed7953"
            ],
            [
             0.7777777777777778,
             "#fb9f3a"
            ],
            [
             0.8888888888888888,
             "#fdca26"
            ],
            [
             1,
             "#f0f921"
            ]
           ]
          },
          "colorway": [
           "#636efa",
           "#EF553B",
           "#00cc96",
           "#ab63fa",
           "#FFA15A",
           "#19d3f3",
           "#FF6692",
           "#B6E880",
           "#FF97FF",
           "#FECB52"
          ],
          "font": {
           "color": "#2a3f5f"
          },
          "geo": {
           "bgcolor": "white",
           "lakecolor": "white",
           "landcolor": "#E5ECF6",
           "showlakes": true,
           "showland": true,
           "subunitcolor": "white"
          },
          "hoverlabel": {
           "align": "left"
          },
          "hovermode": "closest",
          "mapbox": {
           "style": "light"
          },
          "paper_bgcolor": "white",
          "plot_bgcolor": "#E5ECF6",
          "polar": {
           "angularaxis": {
            "gridcolor": "white",
            "linecolor": "white",
            "ticks": ""
           },
           "bgcolor": "#E5ECF6",
           "radialaxis": {
            "gridcolor": "white",
            "linecolor": "white",
            "ticks": ""
           }
          },
          "scene": {
           "xaxis": {
            "backgroundcolor": "#E5ECF6",
            "gridcolor": "white",
            "gridwidth": 2,
            "linecolor": "white",
            "showbackground": true,
            "ticks": "",
            "zerolinecolor": "white"
           },
           "yaxis": {
            "backgroundcolor": "#E5ECF6",
            "gridcolor": "white",
            "gridwidth": 2,
            "linecolor": "white",
            "showbackground": true,
            "ticks": "",
            "zerolinecolor": "white"
           },
           "zaxis": {
            "backgroundcolor": "#E5ECF6",
            "gridcolor": "white",
            "gridwidth": 2,
            "linecolor": "white",
            "showbackground": true,
            "ticks": "",
            "zerolinecolor": "white"
           }
          },
          "shapedefaults": {
           "line": {
            "color": "#2a3f5f"
           }
          },
          "ternary": {
           "aaxis": {
            "gridcolor": "white",
            "linecolor": "white",
            "ticks": ""
           },
           "baxis": {
            "gridcolor": "white",
            "linecolor": "white",
            "ticks": ""
           },
           "bgcolor": "#E5ECF6",
           "caxis": {
            "gridcolor": "white",
            "linecolor": "white",
            "ticks": ""
           }
          },
          "title": {
           "x": 0.05
          },
          "xaxis": {
           "automargin": true,
           "gridcolor": "white",
           "linecolor": "white",
           "ticks": "",
           "title": {
            "standoff": 15
           },
           "zerolinecolor": "white",
           "zerolinewidth": 2
          },
          "yaxis": {
           "automargin": true,
           "gridcolor": "white",
           "linecolor": "white",
           "ticks": "",
           "title": {
            "standoff": 15
           },
           "zerolinecolor": "white",
           "zerolinewidth": 2
          }
         }
        },
        "title": {
         "text": "Qualité moyenne des vins par pays"
        }
       }
      }
     },
     "metadata": {},
     "output_type": "display_data"
    }
   ],
   "source": [
    "import pandas as pd\n",
    "import geopandas as gpd\n",
    "import plotly.express as px\n",
    "\n",
    "# Chargement des données\n",
    "df = pd.read_csv('winemag-data-130k-clean.csv')\n",
    "df.dropna(subset=['country', 'points'], inplace=True)\n",
    "\n",
    "# Calcul de la moyenne de la qualité pour chaque pays et du nombre de vins produits\n",
    "country_stats = df.groupby('country')['points'].agg(['mean', 'count']).reset_index()\n",
    "country_stats.rename(columns={'mean': 'Points moyens', 'count': 'Nombre de vins'}, inplace=True)\n",
    "\n",
    "# Chargement des données géographiques des pays\n",
    "world = gpd.read_file(gpd.datasets.get_path('naturalearth_lowres'))\n",
    "\n",
    "# Fusion des données géographiques et des données sur le vin\n",
    "merged_data = world.merge(country_stats, left_on='name', right_on='country', how='left')\n",
    "\n",
    "# Création de la carte choroplèthe\n",
    "fig = px.choropleth(\n",
    "    merged_data,\n",
    "    locations='iso_a3',\n",
    "    color='Points moyens',  # La colonne renommée représentant la qualité moyenne\n",
    "    hover_name='name',  # Nom du pays à afficher au survol\n",
    "    hover_data={\n",
    "        'iso_a3': False,  # Ne pas afficher l'iso_a3\n",
    "        'Points moyens': True,  # Afficher les points moyens\n",
    "        'Nombre de vins': True  # Afficher le nombre de vins\n",
    "    },\n",
    "    color_continuous_scale='RdYlGn',  # Échelle de couleur du vert au rouge\n",
    "    projection='natural earth',\n",
    "    title='Qualité moyenne des vins par pays'\n",
    ")\n",
    "\n",
    "# Affichage de la carte\n",
    "fig.show()\n"
   ]
  },
  {
   "cell_type": "code",
   "execution_count": null,
   "metadata": {},
   "outputs": [],
   "source": []
  }
 ],
 "metadata": {
  "kernelspec": {
   "display_name": "Python 3",
   "language": "python",
   "name": "python3"
  },
  "language_info": {
   "codemirror_mode": {
    "name": "ipython",
    "version": 3
   },
   "file_extension": ".py",
   "mimetype": "text/x-python",
   "name": "python",
   "nbconvert_exporter": "python",
   "pygments_lexer": "ipython3",
   "version": "3.10.11"
  }
 },
 "nbformat": 4,
 "nbformat_minor": 2
}
