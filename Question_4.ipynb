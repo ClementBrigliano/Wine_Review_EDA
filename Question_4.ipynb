{
 "cells": [
  {
   "cell_type": "markdown",
   "metadata": {},
   "source": [
    "# Libraries"
   ]
  },
  {
   "cell_type": "code",
   "execution_count": 1,
   "metadata": {},
   "outputs": [],
   "source": [
    "import plotly.graph_objects as go\n",
    "from plotly.subplots import make_subplots\n",
    "from sklearn.feature_extraction.text import CountVectorizer\n",
    "import pandas as pd\n",
    "import nltk\n",
    "from nltk.corpus import stopwords\n",
    "import string\n",
    "from collections import Counter"
   ]
  },
  {
   "cell_type": "markdown",
   "metadata": {},
   "source": [
    "# Import"
   ]
  },
  {
   "cell_type": "code",
   "execution_count": 2,
   "metadata": {},
   "outputs": [],
   "source": [
    "df = pd.read_csv('winemag-data-130k-clean.csv')"
   ]
  },
  {
   "cell_type": "code",
   "execution_count": 3,
   "metadata": {},
   "outputs": [
    {
     "data": {
      "text/plain": [
       "Index(['country', 'description', 'designation', 'points', 'price', 'province',\n",
       "       'region_1', 'taster_name', 'title', 'variety', 'winery', 'continent'],\n",
       "      dtype='object')"
      ]
     },
     "execution_count": 3,
     "metadata": {},
     "output_type": "execute_result"
    }
   ],
   "source": [
    "df.columns"
   ]
  },
  {
   "cell_type": "code",
   "execution_count": 4,
   "metadata": {},
   "outputs": [],
   "source": [
    "df.dropna(subset=['continent','points', 'price'], inplace=True)"
   ]
  },
  {
   "cell_type": "markdown",
   "metadata": {},
   "source": [
    "# Quels sont les mots clés qui caractérisent les bons vins ?"
   ]
  },
  {
   "cell_type": "code",
   "execution_count": 5,
   "metadata": {},
   "outputs": [
    {
     "name": "stderr",
     "output_type": "stream",
     "text": [
      "[nltk_data] Downloading package stopwords to\n",
      "[nltk_data]     C:\\Users\\clemsou\\AppData\\Roaming\\nltk_data...\n",
      "[nltk_data]   Package stopwords is already up-to-date!\n"
     ]
    },
    {
     "data": {
      "text/plain": [
       "True"
      ]
     },
     "execution_count": 5,
     "metadata": {},
     "output_type": "execute_result"
    }
   ],
   "source": [
    "nltk.download('stopwords')"
   ]
  },
  {
   "cell_type": "code",
   "execution_count": 9,
   "metadata": {},
   "outputs": [
    {
     "data": {
      "application/vnd.plotly.v1+json": {
       "config": {
        "plotlyServerURL": "https://plot.ly"
       },
       "data": [
        {
         "marker": {
          "color": "#66CCEE"
         },
         "name": "Europe",
         "orientation": "h",
         "type": "bar",
         "visible": false,
         "x": [
          7458,
          6882,
          6488,
          6330,
          6222,
          5983,
          5337,
          5330,
          4322,
          4133
         ],
         "y": [
          "fruit",
          "palate",
          "ripe",
          "tannins",
          "acidity",
          "flavors",
          "aromas",
          "black",
          "rich",
          "spice"
         ]
        },
        {
         "marker": {
          "color": "#CCBB44"
         },
         "name": "North America",
         "orientation": "h",
         "type": "bar",
         "visible": false,
         "x": [
          11025,
          8652,
          6719,
          5912,
          5245,
          4788,
          4664,
          4540,
          4479,
          4399
         ],
         "y": [
          "flavors",
          "fruit",
          "black",
          "cherry",
          "palate",
          "finish",
          "tannins",
          "acidity",
          "oak",
          "aromas"
         ]
        },
        {
         "marker": {
          "color": "#EE6677"
         },
         "name": "South America",
         "orientation": "h",
         "type": "bar",
         "visible": false,
         "x": [
          1308,
          1066,
          1011,
          762,
          759,
          673,
          554,
          491,
          449,
          443
         ],
         "y": [
          "flavors",
          "aromas",
          "finish",
          "berry",
          "blackberry",
          "palate",
          "black",
          "plum",
          "fruit",
          "oak"
         ]
        },
        {
         "marker": {
          "color": "#AA3377"
         },
         "name": "Oceania",
         "orientation": "h",
         "type": "bar",
         "visible": false,
         "x": [
          775,
          686,
          511,
          492,
          480,
          418,
          340,
          291,
          284,
          276
         ],
         "y": [
          "finish",
          "fruit",
          "notes",
          "long",
          "bodied",
          "flavors",
          "hints",
          "vanilla",
          "palate",
          "tannins"
         ]
        },
        {
         "marker": {
          "color": "#228833"
         },
         "name": "Africa",
         "orientation": "h",
         "type": "bar",
         "visible": false,
         "x": [
          215,
          200,
          188,
          182,
          178,
          171,
          167,
          136,
          123,
          107
         ],
         "y": [
          "finish",
          "flavors",
          "fruit",
          "spice",
          "black",
          "palate",
          "notes",
          "aromas",
          "tannins",
          "medium"
         ]
        },
        {
         "marker": {
          "color": "#4477AA"
         },
         "name": "Asia",
         "orientation": "h",
         "type": "bar",
         "visible": false,
         "x": [
          227,
          212,
          205,
          168,
          168,
          108,
          98,
          76,
          75,
          72
         ],
         "y": [
          "cherry",
          "flavors",
          "black",
          "finish",
          "tannins",
          "fruit",
          "palate",
          "pepper",
          "blackberry",
          "notes"
         ]
        },
        {
         "marker": {
          "color": "#FFA500"
         },
         "name": "Tous",
         "orientation": "h",
         "type": "bar",
         "visible": true,
         "x": [
          6,
          6,
          6,
          5,
          5,
          5,
          4,
          3,
          2,
          2
         ],
         "y": [
          "fruit",
          "palate",
          "flavors",
          "tannins",
          "black",
          "finish",
          "aromas",
          "notes",
          "acidity",
          "spice"
         ]
        }
       ],
       "layout": {
        "template": {
         "data": {
          "bar": [
           {
            "error_x": {
             "color": "#2a3f5f"
            },
            "error_y": {
             "color": "#2a3f5f"
            },
            "marker": {
             "line": {
              "color": "#E5ECF6",
              "width": 0.5
             },
             "pattern": {
              "fillmode": "overlay",
              "size": 10,
              "solidity": 0.2
             }
            },
            "type": "bar"
           }
          ],
          "barpolar": [
           {
            "marker": {
             "line": {
              "color": "#E5ECF6",
              "width": 0.5
             },
             "pattern": {
              "fillmode": "overlay",
              "size": 10,
              "solidity": 0.2
             }
            },
            "type": "barpolar"
           }
          ],
          "carpet": [
           {
            "aaxis": {
             "endlinecolor": "#2a3f5f",
             "gridcolor": "white",
             "linecolor": "white",
             "minorgridcolor": "white",
             "startlinecolor": "#2a3f5f"
            },
            "baxis": {
             "endlinecolor": "#2a3f5f",
             "gridcolor": "white",
             "linecolor": "white",
             "minorgridcolor": "white",
             "startlinecolor": "#2a3f5f"
            },
            "type": "carpet"
           }
          ],
          "choropleth": [
           {
            "colorbar": {
             "outlinewidth": 0,
             "ticks": ""
            },
            "type": "choropleth"
           }
          ],
          "contour": [
           {
            "colorbar": {
             "outlinewidth": 0,
             "ticks": ""
            },
            "colorscale": [
             [
              0,
              "#0d0887"
             ],
             [
              0.1111111111111111,
              "#46039f"
             ],
             [
              0.2222222222222222,
              "#7201a8"
             ],
             [
              0.3333333333333333,
              "#9c179e"
             ],
             [
              0.4444444444444444,
              "#bd3786"
             ],
             [
              0.5555555555555556,
              "#d8576b"
             ],
             [
              0.6666666666666666,
              "#ed7953"
             ],
             [
              0.7777777777777778,
              "#fb9f3a"
             ],
             [
              0.8888888888888888,
              "#fdca26"
             ],
             [
              1,
              "#f0f921"
             ]
            ],
            "type": "contour"
           }
          ],
          "contourcarpet": [
           {
            "colorbar": {
             "outlinewidth": 0,
             "ticks": ""
            },
            "type": "contourcarpet"
           }
          ],
          "heatmap": [
           {
            "colorbar": {
             "outlinewidth": 0,
             "ticks": ""
            },
            "colorscale": [
             [
              0,
              "#0d0887"
             ],
             [
              0.1111111111111111,
              "#46039f"
             ],
             [
              0.2222222222222222,
              "#7201a8"
             ],
             [
              0.3333333333333333,
              "#9c179e"
             ],
             [
              0.4444444444444444,
              "#bd3786"
             ],
             [
              0.5555555555555556,
              "#d8576b"
             ],
             [
              0.6666666666666666,
              "#ed7953"
             ],
             [
              0.7777777777777778,
              "#fb9f3a"
             ],
             [
              0.8888888888888888,
              "#fdca26"
             ],
             [
              1,
              "#f0f921"
             ]
            ],
            "type": "heatmap"
           }
          ],
          "heatmapgl": [
           {
            "colorbar": {
             "outlinewidth": 0,
             "ticks": ""
            },
            "colorscale": [
             [
              0,
              "#0d0887"
             ],
             [
              0.1111111111111111,
              "#46039f"
             ],
             [
              0.2222222222222222,
              "#7201a8"
             ],
             [
              0.3333333333333333,
              "#9c179e"
             ],
             [
              0.4444444444444444,
              "#bd3786"
             ],
             [
              0.5555555555555556,
              "#d8576b"
             ],
             [
              0.6666666666666666,
              "#ed7953"
             ],
             [
              0.7777777777777778,
              "#fb9f3a"
             ],
             [
              0.8888888888888888,
              "#fdca26"
             ],
             [
              1,
              "#f0f921"
             ]
            ],
            "type": "heatmapgl"
           }
          ],
          "histogram": [
           {
            "marker": {
             "pattern": {
              "fillmode": "overlay",
              "size": 10,
              "solidity": 0.2
             }
            },
            "type": "histogram"
           }
          ],
          "histogram2d": [
           {
            "colorbar": {
             "outlinewidth": 0,
             "ticks": ""
            },
            "colorscale": [
             [
              0,
              "#0d0887"
             ],
             [
              0.1111111111111111,
              "#46039f"
             ],
             [
              0.2222222222222222,
              "#7201a8"
             ],
             [
              0.3333333333333333,
              "#9c179e"
             ],
             [
              0.4444444444444444,
              "#bd3786"
             ],
             [
              0.5555555555555556,
              "#d8576b"
             ],
             [
              0.6666666666666666,
              "#ed7953"
             ],
             [
              0.7777777777777778,
              "#fb9f3a"
             ],
             [
              0.8888888888888888,
              "#fdca26"
             ],
             [
              1,
              "#f0f921"
             ]
            ],
            "type": "histogram2d"
           }
          ],
          "histogram2dcontour": [
           {
            "colorbar": {
             "outlinewidth": 0,
             "ticks": ""
            },
            "colorscale": [
             [
              0,
              "#0d0887"
             ],
             [
              0.1111111111111111,
              "#46039f"
             ],
             [
              0.2222222222222222,
              "#7201a8"
             ],
             [
              0.3333333333333333,
              "#9c179e"
             ],
             [
              0.4444444444444444,
              "#bd3786"
             ],
             [
              0.5555555555555556,
              "#d8576b"
             ],
             [
              0.6666666666666666,
              "#ed7953"
             ],
             [
              0.7777777777777778,
              "#fb9f3a"
             ],
             [
              0.8888888888888888,
              "#fdca26"
             ],
             [
              1,
              "#f0f921"
             ]
            ],
            "type": "histogram2dcontour"
           }
          ],
          "mesh3d": [
           {
            "colorbar": {
             "outlinewidth": 0,
             "ticks": ""
            },
            "type": "mesh3d"
           }
          ],
          "parcoords": [
           {
            "line": {
             "colorbar": {
              "outlinewidth": 0,
              "ticks": ""
             }
            },
            "type": "parcoords"
           }
          ],
          "pie": [
           {
            "automargin": true,
            "type": "pie"
           }
          ],
          "scatter": [
           {
            "fillpattern": {
             "fillmode": "overlay",
             "size": 10,
             "solidity": 0.2
            },
            "type": "scatter"
           }
          ],
          "scatter3d": [
           {
            "line": {
             "colorbar": {
              "outlinewidth": 0,
              "ticks": ""
             }
            },
            "marker": {
             "colorbar": {
              "outlinewidth": 0,
              "ticks": ""
             }
            },
            "type": "scatter3d"
           }
          ],
          "scattercarpet": [
           {
            "marker": {
             "colorbar": {
              "outlinewidth": 0,
              "ticks": ""
             }
            },
            "type": "scattercarpet"
           }
          ],
          "scattergeo": [
           {
            "marker": {
             "colorbar": {
              "outlinewidth": 0,
              "ticks": ""
             }
            },
            "type": "scattergeo"
           }
          ],
          "scattergl": [
           {
            "marker": {
             "colorbar": {
              "outlinewidth": 0,
              "ticks": ""
             }
            },
            "type": "scattergl"
           }
          ],
          "scattermapbox": [
           {
            "marker": {
             "colorbar": {
              "outlinewidth": 0,
              "ticks": ""
             }
            },
            "type": "scattermapbox"
           }
          ],
          "scatterpolar": [
           {
            "marker": {
             "colorbar": {
              "outlinewidth": 0,
              "ticks": ""
             }
            },
            "type": "scatterpolar"
           }
          ],
          "scatterpolargl": [
           {
            "marker": {
             "colorbar": {
              "outlinewidth": 0,
              "ticks": ""
             }
            },
            "type": "scatterpolargl"
           }
          ],
          "scatterternary": [
           {
            "marker": {
             "colorbar": {
              "outlinewidth": 0,
              "ticks": ""
             }
            },
            "type": "scatterternary"
           }
          ],
          "surface": [
           {
            "colorbar": {
             "outlinewidth": 0,
             "ticks": ""
            },
            "colorscale": [
             [
              0,
              "#0d0887"
             ],
             [
              0.1111111111111111,
              "#46039f"
             ],
             [
              0.2222222222222222,
              "#7201a8"
             ],
             [
              0.3333333333333333,
              "#9c179e"
             ],
             [
              0.4444444444444444,
              "#bd3786"
             ],
             [
              0.5555555555555556,
              "#d8576b"
             ],
             [
              0.6666666666666666,
              "#ed7953"
             ],
             [
              0.7777777777777778,
              "#fb9f3a"
             ],
             [
              0.8888888888888888,
              "#fdca26"
             ],
             [
              1,
              "#f0f921"
             ]
            ],
            "type": "surface"
           }
          ],
          "table": [
           {
            "cells": {
             "fill": {
              "color": "#EBF0F8"
             },
             "line": {
              "color": "white"
             }
            },
            "header": {
             "fill": {
              "color": "#C8D4E3"
             },
             "line": {
              "color": "white"
             }
            },
            "type": "table"
           }
          ]
         },
         "layout": {
          "annotationdefaults": {
           "arrowcolor": "#2a3f5f",
           "arrowhead": 0,
           "arrowwidth": 1
          },
          "autotypenumbers": "strict",
          "coloraxis": {
           "colorbar": {
            "outlinewidth": 0,
            "ticks": ""
           }
          },
          "colorscale": {
           "diverging": [
            [
             0,
             "#8e0152"
            ],
            [
             0.1,
             "#c51b7d"
            ],
            [
             0.2,
             "#de77ae"
            ],
            [
             0.3,
             "#f1b6da"
            ],
            [
             0.4,
             "#fde0ef"
            ],
            [
             0.5,
             "#f7f7f7"
            ],
            [
             0.6,
             "#e6f5d0"
            ],
            [
             0.7,
             "#b8e186"
            ],
            [
             0.8,
             "#7fbc41"
            ],
            [
             0.9,
             "#4d9221"
            ],
            [
             1,
             "#276419"
            ]
           ],
           "sequential": [
            [
             0,
             "#0d0887"
            ],
            [
             0.1111111111111111,
             "#46039f"
            ],
            [
             0.2222222222222222,
             "#7201a8"
            ],
            [
             0.3333333333333333,
             "#9c179e"
            ],
            [
             0.4444444444444444,
             "#bd3786"
            ],
            [
             0.5555555555555556,
             "#d8576b"
            ],
            [
             0.6666666666666666,
             "#ed7953"
            ],
            [
             0.7777777777777778,
             "#fb9f3a"
            ],
            [
             0.8888888888888888,
             "#fdca26"
            ],
            [
             1,
             "#f0f921"
            ]
           ],
           "sequentialminus": [
            [
             0,
             "#0d0887"
            ],
            [
             0.1111111111111111,
             "#46039f"
            ],
            [
             0.2222222222222222,
             "#7201a8"
            ],
            [
             0.3333333333333333,
             "#9c179e"
            ],
            [
             0.4444444444444444,
             "#bd3786"
            ],
            [
             0.5555555555555556,
             "#d8576b"
            ],
            [
             0.6666666666666666,
             "#ed7953"
            ],
            [
             0.7777777777777778,
             "#fb9f3a"
            ],
            [
             0.8888888888888888,
             "#fdca26"
            ],
            [
             1,
             "#f0f921"
            ]
           ]
          },
          "colorway": [
           "#636efa",
           "#EF553B",
           "#00cc96",
           "#ab63fa",
           "#FFA15A",
           "#19d3f3",
           "#FF6692",
           "#B6E880",
           "#FF97FF",
           "#FECB52"
          ],
          "font": {
           "color": "#2a3f5f"
          },
          "geo": {
           "bgcolor": "white",
           "lakecolor": "white",
           "landcolor": "#E5ECF6",
           "showlakes": true,
           "showland": true,
           "subunitcolor": "white"
          },
          "hoverlabel": {
           "align": "left"
          },
          "hovermode": "closest",
          "mapbox": {
           "style": "light"
          },
          "paper_bgcolor": "white",
          "plot_bgcolor": "#E5ECF6",
          "polar": {
           "angularaxis": {
            "gridcolor": "white",
            "linecolor": "white",
            "ticks": ""
           },
           "bgcolor": "#E5ECF6",
           "radialaxis": {
            "gridcolor": "white",
            "linecolor": "white",
            "ticks": ""
           }
          },
          "scene": {
           "xaxis": {
            "backgroundcolor": "#E5ECF6",
            "gridcolor": "white",
            "gridwidth": 2,
            "linecolor": "white",
            "showbackground": true,
            "ticks": "",
            "zerolinecolor": "white"
           },
           "yaxis": {
            "backgroundcolor": "#E5ECF6",
            "gridcolor": "white",
            "gridwidth": 2,
            "linecolor": "white",
            "showbackground": true,
            "ticks": "",
            "zerolinecolor": "white"
           },
           "zaxis": {
            "backgroundcolor": "#E5ECF6",
            "gridcolor": "white",
            "gridwidth": 2,
            "linecolor": "white",
            "showbackground": true,
            "ticks": "",
            "zerolinecolor": "white"
           }
          },
          "shapedefaults": {
           "line": {
            "color": "#2a3f5f"
           }
          },
          "ternary": {
           "aaxis": {
            "gridcolor": "white",
            "linecolor": "white",
            "ticks": ""
           },
           "baxis": {
            "gridcolor": "white",
            "linecolor": "white",
            "ticks": ""
           },
           "bgcolor": "#E5ECF6",
           "caxis": {
            "gridcolor": "white",
            "linecolor": "white",
            "ticks": ""
           }
          },
          "title": {
           "x": 0.05
          },
          "xaxis": {
           "automargin": true,
           "gridcolor": "white",
           "linecolor": "white",
           "ticks": "",
           "title": {
            "standoff": 15
           },
           "zerolinecolor": "white",
           "zerolinewidth": 2
          },
          "yaxis": {
           "automargin": true,
           "gridcolor": "white",
           "linecolor": "white",
           "ticks": "",
           "title": {
            "standoff": 15
           },
           "zerolinecolor": "white",
           "zerolinewidth": 2
          }
         }
        },
        "title": {
         "text": "Mots les plus fréquents dans les critiques positives (Tous les continents)"
        },
        "updatemenus": [
         {
          "buttons": [
           {
            "args": [
             {
              "visible": [
               false,
               false,
               false,
               false,
               false,
               false,
               true
              ]
             },
             {
              "title": "Mots les plus fréquents dans les critiques positives (Tous les continents)"
             }
            ],
            "label": "Tous",
            "method": "update"
           },
           {
            "args": [
             {
              "visible": [
               false,
               false,
               false,
               false,
               false,
               true,
               false
              ]
             },
             {
              "title": "Mots les plus fréquents dans les critiques positives (Asie)"
             }
            ],
            "label": "Asie",
            "method": "update"
           },
           {
            "args": [
             {
              "visible": [
               false,
               false,
               false,
               false,
               true,
               false,
               false
              ]
             },
             {
              "title": "Mots les plus fréquents dans les critiques positives (Afrique)"
             }
            ],
            "label": "Afrique",
            "method": "update"
           },
           {
            "args": [
             {
              "visible": [
               false,
               false,
               false,
               true,
               false,
               false,
               false
              ]
             },
             {
              "title": "Mots les plus fréquents dans les critiques positives (Océanie)"
             }
            ],
            "label": "Océanie",
            "method": "update"
           },
           {
            "args": [
             {
              "visible": [
               false,
               false,
               true,
               false,
               false,
               false,
               false
              ]
             },
             {
              "title": "Mots les plus fréquents dans les critiques positives (Amérique du Sud)"
             }
            ],
            "label": "Amérique du Sud",
            "method": "update"
           },
           {
            "args": [
             {
              "visible": [
               false,
               true,
               false,
               false,
               false,
               false,
               false
              ]
             },
             {
              "title": "Mots les plus fréquents dans les critiques positives (Amérique du Nord)"
             }
            ],
            "label": "Amérique du Nord",
            "method": "update"
           },
           {
            "args": [
             {
              "visible": [
               true,
               false,
               false,
               false,
               false,
               false,
               false
              ]
             },
             {
              "title": "Mots les plus fréquents dans les critiques positives (Europe)"
             }
            ],
            "label": "Europe",
            "method": "update"
           }
          ],
          "direction": "down",
          "pad": {
           "r": 10,
           "t": 10
          },
          "showactive": true,
          "x": 0,
          "xanchor": "left",
          "y": 1.2,
          "yanchor": "top"
         }
        ],
        "xaxis": {
         "anchor": "y",
         "domain": [
          0,
          1
         ],
         "title": {
          "text": "Nombre d'apparitions dans le Top 10"
         }
        },
        "yaxis": {
         "anchor": "x",
         "domain": [
          0,
          1
         ],
         "title": {
          "text": "Mots"
         }
        }
       }
      }
     },
     "metadata": {},
     "output_type": "display_data"
    }
   ],
   "source": [
    "THRESHOLD = 90\n",
    "color_palette = {\n",
    "    \"Asia\": \"#4477AA\",\n",
    "    \"Europe\": \"#66CCEE\",\n",
    "    \"Africa\": \"#228833\",\n",
    "    \"North America\": \"#CCBB44\",\n",
    "    \"South America\": \"#EE6677\",\n",
    "    \"Oceania\": \"#AA3377\",\n",
    "    \"Tous\": \"#FFA500\",\n",
    "}\n",
    "stop = set(stopwords.words(\"english\") + list(string.punctuation) + [\"but\", \"with\", \"drink\"])\n",
    "\n",
    "df[\"description\"] = df[\"description\"].str.lower()\n",
    "df[\"description\"] = df[\"description\"].str.replace(\"wine\", \"\", regex=False)\n",
    "df[\"description\"] = df[\"description\"].apply(\n",
    "    lambda x: \" \".join([word for word in x.split() if word not in stop])\n",
    ")\n",
    "df_positive = df[df[\"points\"] >= THRESHOLD]\n",
    "\n",
    "vectorizer = CountVectorizer(stop_words=\"english\")\n",
    "\n",
    "continents = df[\"continent\"].unique().tolist()\n",
    "continents.append(\"Tous\")\n",
    "\n",
    "fig = make_subplots(rows=1, cols=1)\n",
    "\n",
    "continent_top_words = {continent: Counter() for continent in continents if continent != \"Tous\"}\n",
    "\n",
    "for continent in continents:\n",
    "    if continent != \"Tous\":\n",
    "        df_continent = df_positive[df_positive[\"continent\"] == continent]\n",
    "        word_counts_continent = vectorizer.fit_transform(df_continent[\"description\"])\n",
    "        word_counts_continent_df = pd.DataFrame(\n",
    "            word_counts_continent.toarray(), columns=vectorizer.get_feature_names_out()\n",
    "        )\n",
    "        word_freq_continent = word_counts_continent_df.sum().sort_values(ascending=False)\n",
    "        top_words = word_freq_continent.head(10).index.tolist()\n",
    "        continent_top_words[continent].update(top_words)\n",
    "\n",
    "        fig.add_trace(\n",
    "            go.Bar(\n",
    "                x=word_freq_continent.head(10),\n",
    "                y=word_freq_continent.head(10).index,\n",
    "                orientation=\"h\",\n",
    "                name=continent,\n",
    "                marker_color=color_palette[continent],\n",
    "                visible=False,\n",
    "            )\n",
    "        )\n",
    "\n",
    "all_top_words_counter = Counter(word for counter in continent_top_words.values() for word in counter)\n",
    "top_10_overall = [word for word, count in all_top_words_counter.most_common(10)]\n",
    "\n",
    "fig.add_trace(\n",
    "    go.Bar(\n",
    "        x=[all_top_words_counter[word] for word in top_10_overall],\n",
    "        y=top_10_overall,\n",
    "        orientation=\"h\",\n",
    "        name=\"Tous\",\n",
    "        marker_color=color_palette[\"Tous\"],\n",
    "        visible=True,\n",
    "    )\n",
    ")\n",
    "\n",
    "buttons = []\n",
    "for continent in continents:\n",
    "    label_continent = {\n",
    "        \"Asia\": \"Asie\",\n",
    "        \"Europe\": \"Europe\",\n",
    "        \"Africa\": \"Afrique\",\n",
    "        \"North America\": \"Amérique du Nord\",\n",
    "        \"South America\": \"Amérique du Sud\",\n",
    "        \"Oceania\": \"Océanie\"\n",
    "    }.get(continent, continent)\n",
    "    visible_traces = [continent == c for c in continents]\n",
    "    title = f\"Mots les plus fréquents dans les critiques positives ({label_continent})\" if label_continent != \"Tous\" else \"Mots les plus fréquents dans les critiques positives (Tous les continents)\"\n",
    "    buttons.append(\n",
    "        dict(\n",
    "            label=label_continent,\n",
    "            method=\"update\",\n",
    "            args=[\n",
    "                {\"visible\": visible_traces},\n",
    "                {\"title\": title}\n",
    "            ],\n",
    "        )\n",
    "    )\n",
    "buttons.reverse()\n",
    "fig.update_layout(\n",
    "    title=\"Mots les plus fréquents dans les critiques positives (Tous les continents)\",\n",
    "    updatemenus=[\n",
    "        {\n",
    "            \"buttons\": buttons,\n",
    "            \"direction\": \"down\",\n",
    "            \"pad\": {\"r\": 10, \"t\": 10},\n",
    "            \"showactive\": True,\n",
    "            \"x\": 0.0,\n",
    "            \"xanchor\": \"left\",\n",
    "            \"y\": 1.2,\n",
    "            \"yanchor\": \"top\",\n",
    "        }\n",
    "    ],\n",
    "    yaxis_title=\"Mots\",\n",
    "    xaxis_title=\"Nombre d'apparitions dans le Top 10\",\n",
    ")\n",
    "\n",
    "fig.show()\n"
   ]
  },
  {
   "cell_type": "code",
   "execution_count": null,
   "metadata": {},
   "outputs": [],
   "source": []
  }
 ],
 "metadata": {
  "kernelspec": {
   "display_name": "Python 3",
   "language": "python",
   "name": "python3"
  },
  "language_info": {
   "codemirror_mode": {
    "name": "ipython",
    "version": 3
   },
   "file_extension": ".py",
   "mimetype": "text/x-python",
   "name": "python",
   "nbconvert_exporter": "python",
   "pygments_lexer": "ipython3",
   "version": "3.10.10"
  }
 },
 "nbformat": 4,
 "nbformat_minor": 2
}
