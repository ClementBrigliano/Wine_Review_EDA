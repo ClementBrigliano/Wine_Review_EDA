{
 "cells": [
  {
   "cell_type": "markdown",
   "metadata": {},
   "source": [
    "# Libraries"
   ]
  },
  {
   "cell_type": "code",
   "execution_count": 8,
   "metadata": {},
   "outputs": [],
   "source": [
    "import plotly.graph_objects as go\n",
    "from plotly.subplots import make_subplots\n",
    "from sklearn.feature_extraction.text import CountVectorizer\n",
    "import pandas as pd"
   ]
  },
  {
   "cell_type": "markdown",
   "metadata": {},
   "source": [
    "# Import"
   ]
  },
  {
   "cell_type": "code",
   "execution_count": 9,
   "metadata": {},
   "outputs": [],
   "source": [
    "df = pd.read_csv('winemag-data-130k-clean.csv')"
   ]
  },
  {
   "cell_type": "code",
   "execution_count": 10,
   "metadata": {},
   "outputs": [
    {
     "data": {
      "text/plain": [
       "Index(['country', 'description', 'designation', 'points', 'price', 'province',\n",
       "       'region_1', 'taster_name', 'title', 'variety', 'winery', 'continent'],\n",
       "      dtype='object')"
      ]
     },
     "execution_count": 10,
     "metadata": {},
     "output_type": "execute_result"
    }
   ],
   "source": [
    "df.columns"
   ]
  },
  {
   "cell_type": "code",
   "execution_count": 11,
   "metadata": {},
   "outputs": [],
   "source": [
    "df.dropna(subset=['continent','points', 'price'], inplace=True)"
   ]
  },
  {
   "cell_type": "markdown",
   "metadata": {},
   "source": [
    "# Quels sont les mots clés qui caractérisent les bons vins ?"
   ]
  },
  {
   "cell_type": "code",
   "execution_count": 12,
   "metadata": {},
   "outputs": [
    {
     "data": {
      "application/vnd.plotly.v1+json": {
       "config": {
        "plotlyServerURL": "https://plot.ly"
       },
       "data": [
        {
         "name": "Europe",
         "orientation": "h",
         "type": "bar",
         "visible": false,
         "x": [
          7963,
          7458,
          6882,
          6488,
          6330,
          6222,
          5983,
          5337,
          5330,
          4322,
          4133,
          4130,
          4126,
          3410,
          3157,
          3080,
          3013,
          2709,
          2651,
          2569
         ],
         "y": [
          "drink",
          "fruit",
          "palate",
          "ripe",
          "tannins",
          "acidity",
          "flavors",
          "aromas",
          "black",
          "rich",
          "spice",
          "cherry",
          "finish",
          "fruits",
          "red",
          "berry",
          "notes",
          "fresh",
          "firm",
          "dark"
         ]
        },
        {
         "name": "North America",
         "orientation": "h",
         "type": "bar",
         "visible": false,
         "x": [
          11025,
          8652,
          6719,
          5912,
          5245,
          4788,
          4664,
          4540,
          4479,
          4399,
          3694,
          3396,
          3382,
          3164,
          3053,
          3046,
          2864,
          2743,
          2726,
          2710
         ],
         "y": [
          "flavors",
          "fruit",
          "black",
          "cherry",
          "palate",
          "finish",
          "tannins",
          "acidity",
          "oak",
          "aromas",
          "rich",
          "cabernet",
          "ripe",
          "red",
          "vineyard",
          "nose",
          "dark",
          "shows",
          "blackberry",
          "dry"
         ]
        },
        {
         "name": "South America",
         "orientation": "h",
         "type": "bar",
         "visible": false,
         "x": [
          1308,
          1066,
          1011,
          927,
          762,
          759,
          673,
          554,
          491,
          449,
          443,
          440,
          421,
          407,
          396,
          393,
          388,
          375,
          343,
          311
         ],
         "y": [
          "flavors",
          "aromas",
          "finish",
          "drink",
          "berry",
          "blackberry",
          "palate",
          "black",
          "plum",
          "fruit",
          "oak",
          "cassis",
          "notes",
          "ripe",
          "chocolate",
          "malbec",
          "spice",
          "blend",
          "herbal",
          "cabernet"
         ]
        },
        {
         "name": "Oceania",
         "orientation": "h",
         "type": "bar",
         "visible": false,
         "x": [
          775,
          761,
          686,
          511,
          492,
          480,
          418,
          340,
          291,
          284,
          276,
          263,
          236,
          234,
          228,
          228,
          221,
          216,
          196,
          191
         ],
         "y": [
          "finish",
          "drink",
          "fruit",
          "notes",
          "long",
          "bodied",
          "flavors",
          "hints",
          "vanilla",
          "palate",
          "tannins",
          "aromas",
          "medium",
          "texture",
          "2020",
          "black",
          "shiraz",
          "years",
          "cherry",
          "oak"
         ]
        },
        {
         "name": "Africa",
         "orientation": "h",
         "type": "bar",
         "visible": false,
         "x": [
          215,
          200,
          188,
          182,
          178,
          171,
          167,
          136,
          123,
          121,
          107,
          100,
          99,
          99,
          98,
          96,
          96,
          90,
          86,
          85
         ],
         "y": [
          "finish",
          "flavors",
          "fruit",
          "spice",
          "black",
          "palate",
          "notes",
          "aromas",
          "tannins",
          "drink",
          "medium",
          "sweet",
          "long",
          "acidity",
          "cherry",
          "ripe",
          "plum",
          "nose",
          "apple",
          "blend"
         ]
        },
        {
         "name": "Asia",
         "orientation": "h",
         "type": "bar",
         "visible": false,
         "x": [
          227,
          212,
          205,
          168,
          168,
          108,
          98,
          76,
          75,
          72,
          71,
          69,
          61,
          58,
          56,
          50,
          50,
          49,
          49,
          49
         ],
         "y": [
          "cherry",
          "flavors",
          "black",
          "tannins",
          "finish",
          "fruit",
          "palate",
          "pepper",
          "blackberry",
          "notes",
          "violet",
          "aromas",
          "bright",
          "nose",
          "raspberry",
          "spice",
          "offers",
          "chocolate",
          "red",
          "bouquet"
         ]
        }
       ],
       "layout": {
        "template": {
         "data": {
          "bar": [
           {
            "error_x": {
             "color": "#2a3f5f"
            },
            "error_y": {
             "color": "#2a3f5f"
            },
            "marker": {
             "line": {
              "color": "#E5ECF6",
              "width": 0.5
             },
             "pattern": {
              "fillmode": "overlay",
              "size": 10,
              "solidity": 0.2
             }
            },
            "type": "bar"
           }
          ],
          "barpolar": [
           {
            "marker": {
             "line": {
              "color": "#E5ECF6",
              "width": 0.5
             },
             "pattern": {
              "fillmode": "overlay",
              "size": 10,
              "solidity": 0.2
             }
            },
            "type": "barpolar"
           }
          ],
          "carpet": [
           {
            "aaxis": {
             "endlinecolor": "#2a3f5f",
             "gridcolor": "white",
             "linecolor": "white",
             "minorgridcolor": "white",
             "startlinecolor": "#2a3f5f"
            },
            "baxis": {
             "endlinecolor": "#2a3f5f",
             "gridcolor": "white",
             "linecolor": "white",
             "minorgridcolor": "white",
             "startlinecolor": "#2a3f5f"
            },
            "type": "carpet"
           }
          ],
          "choropleth": [
           {
            "colorbar": {
             "outlinewidth": 0,
             "ticks": ""
            },
            "type": "choropleth"
           }
          ],
          "contour": [
           {
            "colorbar": {
             "outlinewidth": 0,
             "ticks": ""
            },
            "colorscale": [
             [
              0,
              "#0d0887"
             ],
             [
              0.1111111111111111,
              "#46039f"
             ],
             [
              0.2222222222222222,
              "#7201a8"
             ],
             [
              0.3333333333333333,
              "#9c179e"
             ],
             [
              0.4444444444444444,
              "#bd3786"
             ],
             [
              0.5555555555555556,
              "#d8576b"
             ],
             [
              0.6666666666666666,
              "#ed7953"
             ],
             [
              0.7777777777777778,
              "#fb9f3a"
             ],
             [
              0.8888888888888888,
              "#fdca26"
             ],
             [
              1,
              "#f0f921"
             ]
            ],
            "type": "contour"
           }
          ],
          "contourcarpet": [
           {
            "colorbar": {
             "outlinewidth": 0,
             "ticks": ""
            },
            "type": "contourcarpet"
           }
          ],
          "heatmap": [
           {
            "colorbar": {
             "outlinewidth": 0,
             "ticks": ""
            },
            "colorscale": [
             [
              0,
              "#0d0887"
             ],
             [
              0.1111111111111111,
              "#46039f"
             ],
             [
              0.2222222222222222,
              "#7201a8"
             ],
             [
              0.3333333333333333,
              "#9c179e"
             ],
             [
              0.4444444444444444,
              "#bd3786"
             ],
             [
              0.5555555555555556,
              "#d8576b"
             ],
             [
              0.6666666666666666,
              "#ed7953"
             ],
             [
              0.7777777777777778,
              "#fb9f3a"
             ],
             [
              0.8888888888888888,
              "#fdca26"
             ],
             [
              1,
              "#f0f921"
             ]
            ],
            "type": "heatmap"
           }
          ],
          "heatmapgl": [
           {
            "colorbar": {
             "outlinewidth": 0,
             "ticks": ""
            },
            "colorscale": [
             [
              0,
              "#0d0887"
             ],
             [
              0.1111111111111111,
              "#46039f"
             ],
             [
              0.2222222222222222,
              "#7201a8"
             ],
             [
              0.3333333333333333,
              "#9c179e"
             ],
             [
              0.4444444444444444,
              "#bd3786"
             ],
             [
              0.5555555555555556,
              "#d8576b"
             ],
             [
              0.6666666666666666,
              "#ed7953"
             ],
             [
              0.7777777777777778,
              "#fb9f3a"
             ],
             [
              0.8888888888888888,
              "#fdca26"
             ],
             [
              1,
              "#f0f921"
             ]
            ],
            "type": "heatmapgl"
           }
          ],
          "histogram": [
           {
            "marker": {
             "pattern": {
              "fillmode": "overlay",
              "size": 10,
              "solidity": 0.2
             }
            },
            "type": "histogram"
           }
          ],
          "histogram2d": [
           {
            "colorbar": {
             "outlinewidth": 0,
             "ticks": ""
            },
            "colorscale": [
             [
              0,
              "#0d0887"
             ],
             [
              0.1111111111111111,
              "#46039f"
             ],
             [
              0.2222222222222222,
              "#7201a8"
             ],
             [
              0.3333333333333333,
              "#9c179e"
             ],
             [
              0.4444444444444444,
              "#bd3786"
             ],
             [
              0.5555555555555556,
              "#d8576b"
             ],
             [
              0.6666666666666666,
              "#ed7953"
             ],
             [
              0.7777777777777778,
              "#fb9f3a"
             ],
             [
              0.8888888888888888,
              "#fdca26"
             ],
             [
              1,
              "#f0f921"
             ]
            ],
            "type": "histogram2d"
           }
          ],
          "histogram2dcontour": [
           {
            "colorbar": {
             "outlinewidth": 0,
             "ticks": ""
            },
            "colorscale": [
             [
              0,
              "#0d0887"
             ],
             [
              0.1111111111111111,
              "#46039f"
             ],
             [
              0.2222222222222222,
              "#7201a8"
             ],
             [
              0.3333333333333333,
              "#9c179e"
             ],
             [
              0.4444444444444444,
              "#bd3786"
             ],
             [
              0.5555555555555556,
              "#d8576b"
             ],
             [
              0.6666666666666666,
              "#ed7953"
             ],
             [
              0.7777777777777778,
              "#fb9f3a"
             ],
             [
              0.8888888888888888,
              "#fdca26"
             ],
             [
              1,
              "#f0f921"
             ]
            ],
            "type": "histogram2dcontour"
           }
          ],
          "mesh3d": [
           {
            "colorbar": {
             "outlinewidth": 0,
             "ticks": ""
            },
            "type": "mesh3d"
           }
          ],
          "parcoords": [
           {
            "line": {
             "colorbar": {
              "outlinewidth": 0,
              "ticks": ""
             }
            },
            "type": "parcoords"
           }
          ],
          "pie": [
           {
            "automargin": true,
            "type": "pie"
           }
          ],
          "scatter": [
           {
            "fillpattern": {
             "fillmode": "overlay",
             "size": 10,
             "solidity": 0.2
            },
            "type": "scatter"
           }
          ],
          "scatter3d": [
           {
            "line": {
             "colorbar": {
              "outlinewidth": 0,
              "ticks": ""
             }
            },
            "marker": {
             "colorbar": {
              "outlinewidth": 0,
              "ticks": ""
             }
            },
            "type": "scatter3d"
           }
          ],
          "scattercarpet": [
           {
            "marker": {
             "colorbar": {
              "outlinewidth": 0,
              "ticks": ""
             }
            },
            "type": "scattercarpet"
           }
          ],
          "scattergeo": [
           {
            "marker": {
             "colorbar": {
              "outlinewidth": 0,
              "ticks": ""
             }
            },
            "type": "scattergeo"
           }
          ],
          "scattergl": [
           {
            "marker": {
             "colorbar": {
              "outlinewidth": 0,
              "ticks": ""
             }
            },
            "type": "scattergl"
           }
          ],
          "scattermapbox": [
           {
            "marker": {
             "colorbar": {
              "outlinewidth": 0,
              "ticks": ""
             }
            },
            "type": "scattermapbox"
           }
          ],
          "scatterpolar": [
           {
            "marker": {
             "colorbar": {
              "outlinewidth": 0,
              "ticks": ""
             }
            },
            "type": "scatterpolar"
           }
          ],
          "scatterpolargl": [
           {
            "marker": {
             "colorbar": {
              "outlinewidth": 0,
              "ticks": ""
             }
            },
            "type": "scatterpolargl"
           }
          ],
          "scatterternary": [
           {
            "marker": {
             "colorbar": {
              "outlinewidth": 0,
              "ticks": ""
             }
            },
            "type": "scatterternary"
           }
          ],
          "surface": [
           {
            "colorbar": {
             "outlinewidth": 0,
             "ticks": ""
            },
            "colorscale": [
             [
              0,
              "#0d0887"
             ],
             [
              0.1111111111111111,
              "#46039f"
             ],
             [
              0.2222222222222222,
              "#7201a8"
             ],
             [
              0.3333333333333333,
              "#9c179e"
             ],
             [
              0.4444444444444444,
              "#bd3786"
             ],
             [
              0.5555555555555556,
              "#d8576b"
             ],
             [
              0.6666666666666666,
              "#ed7953"
             ],
             [
              0.7777777777777778,
              "#fb9f3a"
             ],
             [
              0.8888888888888888,
              "#fdca26"
             ],
             [
              1,
              "#f0f921"
             ]
            ],
            "type": "surface"
           }
          ],
          "table": [
           {
            "cells": {
             "fill": {
              "color": "#EBF0F8"
             },
             "line": {
              "color": "white"
             }
            },
            "header": {
             "fill": {
              "color": "#C8D4E3"
             },
             "line": {
              "color": "white"
             }
            },
            "type": "table"
           }
          ]
         },
         "layout": {
          "annotationdefaults": {
           "arrowcolor": "#2a3f5f",
           "arrowhead": 0,
           "arrowwidth": 1
          },
          "autotypenumbers": "strict",
          "coloraxis": {
           "colorbar": {
            "outlinewidth": 0,
            "ticks": ""
           }
          },
          "colorscale": {
           "diverging": [
            [
             0,
             "#8e0152"
            ],
            [
             0.1,
             "#c51b7d"
            ],
            [
             0.2,
             "#de77ae"
            ],
            [
             0.3,
             "#f1b6da"
            ],
            [
             0.4,
             "#fde0ef"
            ],
            [
             0.5,
             "#f7f7f7"
            ],
            [
             0.6,
             "#e6f5d0"
            ],
            [
             0.7,
             "#b8e186"
            ],
            [
             0.8,
             "#7fbc41"
            ],
            [
             0.9,
             "#4d9221"
            ],
            [
             1,
             "#276419"
            ]
           ],
           "sequential": [
            [
             0,
             "#0d0887"
            ],
            [
             0.1111111111111111,
             "#46039f"
            ],
            [
             0.2222222222222222,
             "#7201a8"
            ],
            [
             0.3333333333333333,
             "#9c179e"
            ],
            [
             0.4444444444444444,
             "#bd3786"
            ],
            [
             0.5555555555555556,
             "#d8576b"
            ],
            [
             0.6666666666666666,
             "#ed7953"
            ],
            [
             0.7777777777777778,
             "#fb9f3a"
            ],
            [
             0.8888888888888888,
             "#fdca26"
            ],
            [
             1,
             "#f0f921"
            ]
           ],
           "sequentialminus": [
            [
             0,
             "#0d0887"
            ],
            [
             0.1111111111111111,
             "#46039f"
            ],
            [
             0.2222222222222222,
             "#7201a8"
            ],
            [
             0.3333333333333333,
             "#9c179e"
            ],
            [
             0.4444444444444444,
             "#bd3786"
            ],
            [
             0.5555555555555556,
             "#d8576b"
            ],
            [
             0.6666666666666666,
             "#ed7953"
            ],
            [
             0.7777777777777778,
             "#fb9f3a"
            ],
            [
             0.8888888888888888,
             "#fdca26"
            ],
            [
             1,
             "#f0f921"
            ]
           ]
          },
          "colorway": [
           "#636efa",
           "#EF553B",
           "#00cc96",
           "#ab63fa",
           "#FFA15A",
           "#19d3f3",
           "#FF6692",
           "#B6E880",
           "#FF97FF",
           "#FECB52"
          ],
          "font": {
           "color": "#2a3f5f"
          },
          "geo": {
           "bgcolor": "white",
           "lakecolor": "white",
           "landcolor": "#E5ECF6",
           "showlakes": true,
           "showland": true,
           "subunitcolor": "white"
          },
          "hoverlabel": {
           "align": "left"
          },
          "hovermode": "closest",
          "mapbox": {
           "style": "light"
          },
          "paper_bgcolor": "white",
          "plot_bgcolor": "#E5ECF6",
          "polar": {
           "angularaxis": {
            "gridcolor": "white",
            "linecolor": "white",
            "ticks": ""
           },
           "bgcolor": "#E5ECF6",
           "radialaxis": {
            "gridcolor": "white",
            "linecolor": "white",
            "ticks": ""
           }
          },
          "scene": {
           "xaxis": {
            "backgroundcolor": "#E5ECF6",
            "gridcolor": "white",
            "gridwidth": 2,
            "linecolor": "white",
            "showbackground": true,
            "ticks": "",
            "zerolinecolor": "white"
           },
           "yaxis": {
            "backgroundcolor": "#E5ECF6",
            "gridcolor": "white",
            "gridwidth": 2,
            "linecolor": "white",
            "showbackground": true,
            "ticks": "",
            "zerolinecolor": "white"
           },
           "zaxis": {
            "backgroundcolor": "#E5ECF6",
            "gridcolor": "white",
            "gridwidth": 2,
            "linecolor": "white",
            "showbackground": true,
            "ticks": "",
            "zerolinecolor": "white"
           }
          },
          "shapedefaults": {
           "line": {
            "color": "#2a3f5f"
           }
          },
          "ternary": {
           "aaxis": {
            "gridcolor": "white",
            "linecolor": "white",
            "ticks": ""
           },
           "baxis": {
            "gridcolor": "white",
            "linecolor": "white",
            "ticks": ""
           },
           "bgcolor": "#E5ECF6",
           "caxis": {
            "gridcolor": "white",
            "linecolor": "white",
            "ticks": ""
           }
          },
          "title": {
           "x": 0.05
          },
          "xaxis": {
           "automargin": true,
           "gridcolor": "white",
           "linecolor": "white",
           "ticks": "",
           "title": {
            "standoff": 15
           },
           "zerolinecolor": "white",
           "zerolinewidth": 2
          },
          "yaxis": {
           "automargin": true,
           "gridcolor": "white",
           "linecolor": "white",
           "ticks": "",
           "title": {
            "standoff": 15
           },
           "zerolinecolor": "white",
           "zerolinewidth": 2
          }
         }
        },
        "updatemenus": [
         {
          "buttons": [
           {
            "args": [
             {
              "visible": [
               true,
               false,
               false,
               false,
               false,
               false
              ]
             },
             {
              "title": "Mots fréquents dans les critiques positives en Europe"
             }
            ],
            "label": "Europe",
            "method": "update"
           },
           {
            "args": [
             {
              "visible": [
               false,
               true,
               false,
               false,
               false,
               false
              ]
             },
             {
              "title": "Mots fréquents dans les critiques positives en North America"
             }
            ],
            "label": "North America",
            "method": "update"
           },
           {
            "args": [
             {
              "visible": [
               false,
               false,
               true,
               false,
               false,
               false
              ]
             },
             {
              "title": "Mots fréquents dans les critiques positives en South America"
             }
            ],
            "label": "South America",
            "method": "update"
           },
           {
            "args": [
             {
              "visible": [
               false,
               false,
               false,
               true,
               false,
               false
              ]
             },
             {
              "title": "Mots fréquents dans les critiques positives en Oceania"
             }
            ],
            "label": "Oceania",
            "method": "update"
           },
           {
            "args": [
             {
              "visible": [
               false,
               false,
               false,
               false,
               true,
               false
              ]
             },
             {
              "title": "Mots fréquents dans les critiques positives en Africa"
             }
            ],
            "label": "Africa",
            "method": "update"
           },
           {
            "args": [
             {
              "visible": [
               false,
               false,
               false,
               false,
               false,
               true
              ]
             },
             {
              "title": "Mots fréquents dans les critiques positives en Asia"
             }
            ],
            "label": "Asia",
            "method": "update"
           },
           {
            "args": [
             {
              "visible": [
               true,
               true,
               true,
               true,
               true,
               true
              ]
             },
             {
              "title": "Mots fréquents dans les critiques positives"
             }
            ],
            "label": "Tous",
            "method": "update"
           }
          ],
          "direction": "down",
          "pad": {
           "r": 10,
           "t": 10
          },
          "showactive": true,
          "x": 0.1,
          "xanchor": "left",
          "y": 1.2,
          "yanchor": "top"
         }
        ],
        "xaxis": {
         "anchor": "y",
         "domain": [
          0,
          1
         ],
         "title": {
          "text": "Fréquence"
         }
        },
        "yaxis": {
         "anchor": "x",
         "domain": [
          0,
          1
         ],
         "title": {
          "text": "Mots"
         }
        }
       }
      }
     },
     "metadata": {},
     "output_type": "display_data"
    }
   ],
   "source": [
    "\n",
    "SEUIL = 90\n",
    "\n",
    "\n",
    "df['description'] = df['description'].str.lower()\n",
    "df['description'] = df['description'].str.replace('wine', '', regex=False)\n",
    "df_positive = df[df['points'] >= SEUIL]\n",
    "\n",
    "vectorizer = CountVectorizer(stop_words='english')\n",
    "word_counts = vectorizer.fit_transform(df_positive['description'])\n",
    "word_counts_df = pd.DataFrame(word_counts.toarray(), columns=vectorizer.get_feature_names_out())\n",
    "word_freq = word_counts_df.sum().sort_values(ascending=False)\n",
    "\n",
    "fig = make_subplots(rows=1, cols=1)\n",
    "\n",
    "continents = df['continent'].unique()\n",
    "\n",
    "for continent in continents:\n",
    "    df_continent = df_positive[df_positive['continent'] == continent]\n",
    "    word_counts_continent = vectorizer.fit_transform(df_continent['description'])\n",
    "    word_counts_continent_df = pd.DataFrame(word_counts_continent.toarray(), columns=vectorizer.get_feature_names_out())\n",
    "    word_freq_continent = word_counts_continent_df.sum().sort_values(ascending=False)\n",
    "\n",
    "    fig.add_trace(\n",
    "        go.Bar(\n",
    "            x=word_freq_continent.head(20),\n",
    "            y=word_freq_continent.head(20).index,\n",
    "            orientation='h',\n",
    "            name=continent,\n",
    "            visible=False\n",
    "        )\n",
    "    )\n",
    "\n",
    "buttons = []\n",
    "for continent in continents:\n",
    "    buttons.append(\n",
    "        dict(\n",
    "            label=continent,\n",
    "            method='update',\n",
    "            args=[{'visible': [continent == c for c in continents]},\n",
    "                  {'title': f'Mots fréquents dans les critiques positives en {continent}'}]\n",
    "        )\n",
    "    )\n",
    "\n",
    "buttons.append(\n",
    "    dict(\n",
    "        label='Tous',\n",
    "        method='update',\n",
    "        args=[{'visible': [True] * len(continents)},\n",
    "              {'title': 'Mots fréquents dans les critiques positives'}]\n",
    "    )\n",
    ")\n",
    "\n",
    "fig.update_layout(\n",
    "    updatemenus=[{\n",
    "        'buttons': buttons,\n",
    "        'direction': 'down',\n",
    "        'pad': {'r': 10, 't': 10},\n",
    "        'showactive': True,\n",
    "        'x': 0.1,\n",
    "        'xanchor': 'left',\n",
    "        'y': 1.2,\n",
    "        'yanchor': 'top'\n",
    "    }],\n",
    "    yaxis_title='Mots',\n",
    "    xaxis_title='Fréquence'\n",
    ")\n",
    "\n",
    "fig.show()"
   ]
  },
  {
   "cell_type": "code",
   "execution_count": null,
   "metadata": {},
   "outputs": [],
   "source": [
    "import pandas as pd\n",
    "import plotly.graph_objs as go\n",
    "from plotly.subplots import make_subplots\n",
    "from sklearn.feature_extraction.text import CountVectorizer\n",
    "from dash import Dash, html, dcc, Input, Output\n",
    "\n",
    "# Assume df is your DataFrame with wine reviews\n",
    "app = Dash(__name__)\n",
    "\n",
    "\n",
    "# Function to process data and get top words\n",
    "def get_top_words(df, threshold, continent=None):\n",
    "    df_filtered = df[df[\"points\"] >= threshold]\n",
    "    if continent:\n",
    "        df_filtered = df_filtered[df_filtered[\"continent\"] == continent]\n",
    "    df_filtered[\"description\"] = (\n",
    "        df_filtered[\"description\"].str.lower().str.replace(\"wine\", \"\", regex=False)\n",
    "    )\n",
    "\n",
    "    vectorizer = CountVectorizer(stop_words=\"english\")\n",
    "    word_counts = vectorizer.fit_transform(df_filtered[\"description\"])\n",
    "    word_counts_df = pd.DataFrame(\n",
    "        word_counts.toarray(), columns=vectorizer.get_feature_names_out()\n",
    "    )\n",
    "    word_freq = word_counts_df.sum().sort_values(ascending=False).head(20)\n",
    "    return word_freq\n",
    "\n",
    "\n",
    "# Layout\n",
    "app.layout = html.Div(\n",
    "    [\n",
    "        dcc.Graph(id=\"word-freq-plot\"),\n",
    "        dcc.Slider(\n",
    "            id=\"threshold-slider\",\n",
    "            min=df[\"points\"].min(),\n",
    "            max=df[\"points\"].max(),\n",
    "            value=90,\n",
    "            step=1,\n",
    "            marks={\n",
    "                i: str(i)\n",
    "                for i in range(int(df[\"points\"].min()), int(df[\"points\"].max()) + 1, 10)\n",
    "            },\n",
    "        ),\n",
    "    ]\n",
    ")\n",
    "\n",
    "\n",
    "# Callback to update graph\n",
    "@app.callback(Output(\"word-freq-plot\", \"figure\"), Input(\"threshold-slider\", \"value\"))\n",
    "def update_graph(threshold):\n",
    "    continents = df[\"continent\"].unique()\n",
    "    fig = make_subplots(rows=1, cols=1)\n",
    "\n",
    "    for continent in continents:\n",
    "        word_freq_continent = get_top_words(df, threshold, continent)\n",
    "        fig.add_trace(\n",
    "            go.Bar(\n",
    "                x=word_freq_continent.values,\n",
    "                y=word_freq_continent.index,\n",
    "                orientation=\"h\",\n",
    "                name=continent,\n",
    "            )\n",
    "        )\n",
    "\n",
    "    fig.update_layout(yaxis_title=\"Mots\", xaxis_title=\"Fréquence\", showlegend=True)\n",
    "\n",
    "    return fig\n",
    "\n",
    "\n",
    "app.run_server(debug=True)"
   ]
  },
  {
   "cell_type": "code",
   "execution_count": null,
   "metadata": {},
   "outputs": [],
   "source": []
  }
 ],
 "metadata": {
  "kernelspec": {
   "display_name": "Python 3",
   "language": "python",
   "name": "python3"
  },
  "language_info": {
   "codemirror_mode": {
    "name": "ipython",
    "version": 3
   },
   "file_extension": ".py",
   "mimetype": "text/x-python",
   "name": "python",
   "nbconvert_exporter": "python",
   "pygments_lexer": "ipython3",
   "version": "3.10.9"
  }
 },
 "nbformat": 4,
 "nbformat_minor": 2
}
